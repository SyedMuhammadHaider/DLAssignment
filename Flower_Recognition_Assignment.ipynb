{
  "nbformat": 4,
  "nbformat_minor": 0,
  "metadata": {
    "colab": {
      "name": "Flower_Recognition_Assignment.ipynb",
      "provenance": []
    },
    "kernelspec": {
      "name": "python3",
      "display_name": "Python 3"
    },
    "language_info": {
      "name": "python"
    }
  },
  "cells": [
    {
      "cell_type": "code",
      "metadata": {
        "colab": {
          "base_uri": "https://localhost:8080/"
        },
        "id": "YoGRrfjfD7B8",
        "outputId": "8df9b41a-a186-496f-abee-3fdea60a25c0"
      },
      "source": [
        "cd /content/drive/MyDrive/AIC/archive/flowers"
      ],
      "execution_count": 1,
      "outputs": [
        {
          "output_type": "stream",
          "text": [
            "/content/drive/MyDrive/AIC/archive/flowers\n"
          ],
          "name": "stdout"
        }
      ]
    },
    {
      "cell_type": "code",
      "metadata": {
        "id": "qc0fFSyrE2tx"
      },
      "source": [
        "import numpy as np\n",
        "import pandas as pd\n",
        "import tensorflow as tf\n",
        "from tensorflow.keras import models, layers, optimizers\n",
        "from tensorflow.keras.preprocessing.image import ImageDataGenerator"
      ],
      "execution_count": 3,
      "outputs": []
    },
    {
      "cell_type": "code",
      "metadata": {
        "colab": {
          "base_uri": "https://localhost:8080/"
        },
        "id": "kAhxhxilF2QI",
        "outputId": "8a1d8e57-27d5-44c4-c4cb-b080aeeed90f"
      },
      "source": [
        "train_datagen = ImageDataGenerator(\n",
        "    rescale=1./255,\\\n",
        "    shear_range=0.4,\n",
        "    zoom_range=0.3,\n",
        "    validation_split=0.4,\n",
        "    horizontal_flip=True,\n",
        "    )\n",
        "train_generator = train_datagen.flow_from_directory(\n",
        "    '/content/drive/MyDrive/AIC/flowers',\n",
        "    target_size = (180,180),\n",
        "    batch_size = 20,\n",
        "    class_mode = 'categorical',\n",
        "    subset = 'training',\n",
        "    shuffle = True\n",
        ")\n",
        "validation_generator = train_datagen.flow_from_directory(\n",
        "    '/content/drive/MyDrive/AIC/flowers',\n",
        "    target_size = (180,180),\n",
        "    batch_size = 20,\n",
        "    class_mode = 'categorical',\n",
        "    subset = 'validation',\n",
        "    shuffle = True\n",
        ")"
      ],
      "execution_count": 5,
      "outputs": [
        {
          "output_type": "stream",
          "text": [
            "Found 2597 images belonging to 5 classes.\n",
            "Found 1726 images belonging to 5 classes.\n"
          ],
          "name": "stdout"
        }
      ]
    },
    {
      "cell_type": "code",
      "metadata": {
        "colab": {
          "base_uri": "https://localhost:8080/"
        },
        "id": "TkKVGdyLI0Gj",
        "outputId": "f401e644-f041-4235-c4df-9800680d99cf"
      },
      "source": [
        "train_generator.class_indices"
      ],
      "execution_count": 6,
      "outputs": [
        {
          "output_type": "execute_result",
          "data": {
            "text/plain": [
              "{'daisy': 0, 'dandelion': 1, 'rose': 2, 'sunflower': 3, 'tulip': 4}"
            ]
          },
          "metadata": {
            "tags": []
          },
          "execution_count": 6
        }
      ]
    },
    {
      "cell_type": "code",
      "metadata": {
        "id": "uKPaWHymMaic"
      },
      "source": [
        "#Models with Conv2D and Maxpooling\n",
        "model = tf.keras.models.Sequential([\n",
        "    # Note that shape is the desired of the image 150x150 with 3 bytes color\n",
        "    # This is the first convolution\n",
        "    tf.keras.layers.Conv2D(256, (3,3), activation='relu', input_shape=(180, 180, 3)),\n",
        "    tf.keras.layers.MaxPooling2D(2,2),\n",
        "    # The Second Convolution\n",
        "    tf.keras.layers.Conv2D(256, (3,3), activation='relu'),\n",
        "    tf.keras.layers.MaxPooling2D(2, 2),\n",
        "    # The Third Convolution\n",
        "    tf.keras.layers.Conv2D(128, (3,3), activation='relu'),\n",
        "    tf.keras.layers.MaxPooling2D(2,2),\n",
        "    # The Fourth Convolution\n",
        "    tf.keras.layers.Conv2D(128, (3,3), activation='relu'),\n",
        "    tf.keras.layers.MaxPooling2D(2,2),\n",
        "    # Flatten the result to find \n",
        "    tf.keras.layers.Flatten(),\n",
        "    tf.keras.layers.Dropout(0.5),\n",
        "    # 512 neuron hidden layer\n",
        "    tf.keras.layers.Dense(64, activation='relu') ,\n",
        "    tf.keras.layers.Dense(5, activation='softmax')                                   \n",
        "])"
      ],
      "execution_count": 7,
      "outputs": []
    },
    {
      "cell_type": "code",
      "metadata": {
        "id": "7BqugmamQQG8"
      },
      "source": [
        "model.compile(optimizer='rmsprop',\n",
        "loss='categorical_crossentropy',\n",
        "metrics=['accuracy'])"
      ],
      "execution_count": 8,
      "outputs": []
    },
    {
      "cell_type": "code",
      "metadata": {
        "colab": {
          "base_uri": "https://localhost:8080/"
        },
        "id": "Lln4z8_rQ8p5",
        "outputId": "192afa9b-4d24-4014-a05e-a85414b9b331"
      },
      "source": [
        "result = model.fit(\n",
        "    train_generator,\n",
        "    steps_per_epoch=30,\n",
        "    epochs=100,\n",
        "    validation_data=validation_generator,\n",
        "    validation_steps=30,\n",
        "    )"
      ],
      "execution_count": null,
      "outputs": [
        {
          "output_type": "stream",
          "text": [
            "Epoch 1/100\n",
            "30/30 [==============================] - 716s 24s/step - loss: 1.8871 - accuracy: 0.1986 - val_loss: 1.4840 - val_accuracy: 0.3900\n",
            "Epoch 2/100\n",
            "30/30 [==============================] - 610s 20s/step - loss: 1.4211 - accuracy: 0.4533 - val_loss: 1.2520 - val_accuracy: 0.4417\n",
            "Epoch 3/100\n",
            "30/30 [==============================] - 537s 18s/step - loss: 1.2770 - accuracy: 0.4254 - val_loss: 1.1971 - val_accuracy: 0.4817\n",
            "Epoch 4/100\n",
            "30/30 [==============================] - 499s 17s/step - loss: 1.2762 - accuracy: 0.4474 - val_loss: 1.1564 - val_accuracy: 0.5317\n",
            "Epoch 5/100\n",
            "30/30 [==============================] - 497s 17s/step - loss: 1.1970 - accuracy: 0.4881 - val_loss: 1.1074 - val_accuracy: 0.5350\n",
            "Epoch 6/100\n",
            "30/30 [==============================] - 481s 16s/step - loss: 1.1664 - accuracy: 0.5387 - val_loss: 1.0363 - val_accuracy: 0.6067\n",
            "Epoch 7/100\n",
            "30/30 [==============================] - 480s 16s/step - loss: 1.1897 - accuracy: 0.5723 - val_loss: 1.2392 - val_accuracy: 0.4567\n",
            "Epoch 8/100\n",
            "20/30 [===================>..........] - ETA: 2:02 - loss: 1.1291 - accuracy: 0.5457"
          ],
          "name": "stdout"
        }
      ]
    },
    {
      "cell_type": "code",
      "metadata": {
        "id": "c4f45F_DGMcG"
      },
      "source": [
        "model.predict(validation_generator)"
      ],
      "execution_count": null,
      "outputs": []
    }
  ]
}